{
 "cells": [
  {
   "cell_type": "code",
   "execution_count": 1,
   "metadata": {},
   "outputs": [],
   "source": [
    "import torch\n",
    "import torch.nn as nn\n",
    "import torch.optim as optim\n",
    "from torchvision import datasets, transforms\n",
    "from torch.utils.data import DataLoader, Subset"
   ]
  },
  {
   "cell_type": "code",
   "execution_count": 2,
   "metadata": {},
   "outputs": [],
   "source": [
    "transform = transforms.Compose([\n",
    "        transforms.ToTensor(),\n",
    "        transforms.Normalize((0.1307, ), (0.3081, ))\n",
    "])\n",
    "\n",
    "train_dataset = datasets.MNIST(root = \"./data\", train = True, download = True, transform = transform)\n",
    "test_dataset = datasets.MNIST(root = \"./data\", train = False, download = True, transform = transform)"
   ]
  },
  {
   "cell_type": "code",
   "execution_count": 3,
   "metadata": {},
   "outputs": [],
   "source": [
    "train_subset = Subset(train_dataset, range(200))\n",
    "test_subset = Subset(test_dataset, range(50))\n",
    "\n",
    "train_loader = DataLoader(train_subset, batch_size = 10, shuffle = True)\n",
    "test_loader = DataLoader(test_subset, batch_size = 10, shuffle = False)"
   ]
  },
  {
   "cell_type": "code",
   "execution_count": 4,
   "metadata": {},
   "outputs": [],
   "source": [
    "class SimpleANN(nn.Module):\n",
    "        def __init__(self):\n",
    "                super(SimpleANN, self).__init__()\n",
    "                self.fc1 = nn.Linear(28 * 28, 128)\n",
    "                self.fc2 = nn.Linear(128, 64)\n",
    "                self.fc3 = nn.Linear(64, 10)\n",
    "        \n",
    "        def forward(self, x):\n",
    "                x = torch.flatten(x, start_dim = 1)\n",
    "                x = torch.relu(self.fc1(x))\n",
    "                x = torch.relu(self.fc2(x))\n",
    "                x = self.fc3(x)\n",
    "                return x\n",
    "        \n",
    "model = SimpleANN()\n",
    "optimizer = optim.Adam(model.parameters(), lr = 0.001)\n",
    "criterion = nn.CrossEntropyLoss()"
   ]
  },
  {
   "cell_type": "code",
   "execution_count": 5,
   "metadata": {},
   "outputs": [
    {
     "name": "stdout",
     "output_type": "stream",
     "text": [
      "Epoch 1, Train Loss:  2.0127, Train Accuracy: 37.00000000%,Test Loss:  1.6204, Test Accuracy:  62.00000000%\n",
      "Epoch 2, Train Loss:  1.0306, Train Accuracy: 74.50000000%,Test Loss:  1.0324, Test Accuracy:  74.00000000%\n",
      "Epoch 3, Train Loss:  0.5267, Train Accuracy: 87.50000000%,Test Loss:  0.8695, Test Accuracy:  72.00000000%\n",
      "Epoch 4, Train Loss:  0.3117, Train Accuracy: 94.00000000%,Test Loss:  0.7235, Test Accuracy:  74.00000000%\n",
      "Epoch 5, Train Loss:  0.1721, Train Accuracy: 98.00000000%,Test Loss:  0.5980, Test Accuracy:  84.00000000%\n",
      "Epoch 6, Train Loss:  0.0993, Train Accuracy: 98.50000000%,Test Loss:  0.5848, Test Accuracy:  80.00000000%\n",
      "Epoch 7, Train Loss:  0.0610, Train Accuracy: 100.00000000%,Test Loss:  0.5513, Test Accuracy:  82.00000000%\n",
      "Epoch 8, Train Loss:  0.0388, Train Accuracy: 100.00000000%,Test Loss:  0.5452, Test Accuracy:  78.00000000%\n",
      "Epoch 9, Train Loss:  0.0273, Train Accuracy: 100.00000000%,Test Loss:  0.5443, Test Accuracy:  80.00000000%\n",
      "Epoch 10, Train Loss:  0.0174, Train Accuracy: 100.00000000%,Test Loss:  0.5529, Test Accuracy:  80.00000000%\n"
     ]
    }
   ],
   "source": [
    "def train_model(num_epochs):\n",
    "        for epoch in range(num_epochs):\n",
    "                model.train()\n",
    "                train_loss = 0\n",
    "                correct_train = 0\n",
    "                total_train = 0\n",
    "                for data, target in train_loader:\n",
    "                        optimizer.zero_grad()\n",
    "                        op = model(data)\n",
    "                        loss = criterion(op, target)\n",
    "                        loss.backward()\n",
    "                        optimizer.step()\n",
    "                        train_loss += loss.item()\n",
    "                        predicted = torch.argmax(op.data, dim = 1)\n",
    "                        total_train += target.size(0)\n",
    "                        correct_train += (predicted == target).sum().item()\n",
    "\n",
    "                avg_train_loss = train_loss / len(train_loader)\n",
    "                train_acc = 100 * correct_train / total_train\n",
    "\n",
    "                model.eval()\n",
    "                test_loss = 0\n",
    "                correct_test = 0\n",
    "                total_test = 0\n",
    "\n",
    "                with torch.no_grad():\n",
    "                        for data, target in test_loader:\n",
    "                                op = model(data)\n",
    "                                loss = criterion(op, target)\n",
    "                                test_loss += loss.item()\n",
    "                                predicted = torch.argmax(op.data, dim = 1)\n",
    "                                total_test += target.size(0)\n",
    "                                correct_test += (predicted == target).sum().item()\n",
    "                \n",
    "                avg_test_loss = test_loss / len(test_loader)\n",
    "                test_acc = 100 * correct_test / total_test\n",
    "\n",
    "                print(f'Epoch {epoch + 1}, Train Loss: {avg_train_loss: .4f}, Train Accuracy: {train_acc:.8f}%,'\n",
    "                      f'Test Loss: {avg_test_loss: .4f}, Test Accuracy: {test_acc: .8f}%')\n",
    "                \n",
    "\n",
    "train_model(10)\n"
   ]
  }
 ],
 "metadata": {
  "kernelspec": {
   "display_name": "Python 3",
   "language": "python",
   "name": "python3"
  },
  "language_info": {
   "codemirror_mode": {
    "name": "ipython",
    "version": 3
   },
   "file_extension": ".py",
   "mimetype": "text/x-python",
   "name": "python",
   "nbconvert_exporter": "python",
   "pygments_lexer": "ipython3",
   "version": "3.12.0"
  },
  "orig_nbformat": 4
 },
 "nbformat": 4,
 "nbformat_minor": 2
}
