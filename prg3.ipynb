{
 "cells": [
  {
   "cell_type": "code",
   "execution_count": 2,
   "metadata": {},
   "outputs": [],
   "source": [
    "import torch\n",
    "import torch.nn as nn\n",
    "import torch.optim as optim\n",
    "from torchvision import datasets, transforms\n",
    "from torch.utils.data import DataLoader, Subset\n",
    "import numpy as np"
   ]
  },
  {
   "cell_type": "code",
   "execution_count": 3,
   "metadata": {},
   "outputs": [
    {
     "name": "stdout",
     "output_type": "stream",
     "text": [
      "Downloading https://www.cs.toronto.edu/~kriz/cifar-10-python.tar.gz to ./data\\cifar-10-python.tar.gz\n"
     ]
    },
    {
     "name": "stderr",
     "output_type": "stream",
     "text": [
      "100%|██████████| 170498071/170498071 [01:06<00:00, 2567102.62it/s]\n"
     ]
    },
    {
     "name": "stdout",
     "output_type": "stream",
     "text": [
      "Extracting ./data\\cifar-10-python.tar.gz to ./data\n",
      "Files already downloaded and verified\n"
     ]
    }
   ],
   "source": [
    "transform = transforms.Compose([\n",
    "        transforms.ToTensor(),\n",
    "])\n",
    "\n",
    "train_dataset = datasets.CIFAR10(root = \"./data\", train = True, download = True, transform = transform)\n",
    "test_dataset = datasets.CIFAR10(root = \"./data\", train = False, download = True, transform = transform)"
   ]
  },
  {
   "cell_type": "code",
   "execution_count": 4,
   "metadata": {},
   "outputs": [],
   "source": [
    "train_subset = Subset(train_dataset, range(200))\n",
    "test_subset = Subset(test_dataset, range(50))\n",
    "\n",
    "train_loader = DataLoader(train_subset, batch_size = 10, shuffle = True)\n",
    "test_loader = DataLoader(test_subset, batch_size = 10, shuffle = False)"
   ]
  },
  {
   "cell_type": "code",
   "execution_count": 9,
   "metadata": {},
   "outputs": [],
   "source": [
    "class CNNWithBNDropout(nn.Module):\n",
    "        def __init__(self):\n",
    "                super(CNNWithBNDropout, self).__init__()\n",
    "                self.conv_block1 = nn.Sequential(\n",
    "                        nn.Conv2d(3, 32, kernel_size = 3, padding = 1),\n",
    "                        nn.BatchNorm2d(32),\n",
    "                        nn.ReLU(),\n",
    "                        nn.MaxPool2d(2)\n",
    "                )\n",
    "\n",
    "                self.conv_block2 = nn.Sequential(\n",
    "                        nn.Conv2d(32, 64, kernel_size = 3, padding = 1),\n",
    "                        nn.BatchNorm2d(64),\n",
    "                        nn.ReLU(),\n",
    "                        nn.MaxPool2d(2)\n",
    "                )\n",
    "\n",
    "                self.dense1 = nn.Linear(64 * 8 * 8, 512)\n",
    "                self.dense2 = nn.Linear(512, 10)\n",
    "\n",
    "                self.dropout = nn.Dropout(0.5)\n",
    "                self.relu = nn.ReLU()\n",
    "                self.flatten = nn.Flatten()\n",
    "\n",
    "        def forward(self, x):\n",
    "                x = self.conv_block1(x)\n",
    "                x = self.conv_block2(x)\n",
    "                x = self.flatten(x)\n",
    "                x = self.dense1(x)\n",
    "                x = self.relu(x)\n",
    "                x = self.dense2(x)\n",
    "                x = self.dropout(x)\n",
    "\n",
    "                return x\n",
    "\n",
    "model = CNNWithBNDropout()\n",
    "criterion = nn.CrossEntropyLoss()\n",
    "optimizer = optim.Adam(model.parameters())\n"
   ]
  },
  {
   "cell_type": "code",
   "execution_count": 10,
   "metadata": {},
   "outputs": [
    {
     "name": "stdout",
     "output_type": "stream",
     "text": [
      "Epoch 1, Train Loss:  3.8864, Train Accuracy: 11.00000000%,Test Loss:  2.4400, Test Accuracy:  18.00000000%\n",
      "Epoch 2, Train Loss:  2.5766, Train Accuracy: 15.50000000%,Test Loss:  2.1506, Test Accuracy:  14.00000000%\n",
      "Epoch 3, Train Loss:  2.1177, Train Accuracy: 24.50000000%,Test Loss:  2.1097, Test Accuracy:  24.00000000%\n",
      "Epoch 4, Train Loss:  1.9778, Train Accuracy: 31.50000000%,Test Loss:  1.9869, Test Accuracy:  24.00000000%\n",
      "Epoch 5, Train Loss:  1.8453, Train Accuracy: 33.50000000%,Test Loss:  2.0436, Test Accuracy:  28.00000000%\n",
      "Epoch 6, Train Loss:  1.8316, Train Accuracy: 34.50000000%,Test Loss:  2.0623, Test Accuracy:  20.00000000%\n",
      "Epoch 7, Train Loss:  1.9084, Train Accuracy: 30.00000000%,Test Loss:  1.9158, Test Accuracy:  34.00000000%\n",
      "Epoch 8, Train Loss:  1.7199, Train Accuracy: 36.00000000%,Test Loss:  2.0415, Test Accuracy:  24.00000000%\n",
      "Epoch 9, Train Loss:  1.5388, Train Accuracy: 42.00000000%,Test Loss:  1.9749, Test Accuracy:  38.00000000%\n",
      "Epoch 10, Train Loss:  1.5321, Train Accuracy: 43.50000000%,Test Loss:  1.9150, Test Accuracy:  20.00000000%\n"
     ]
    }
   ],
   "source": [
    "def train_model(num_epochs):\n",
    "        for epoch in range(num_epochs):\n",
    "                model.train()\n",
    "                train_loss = 0\n",
    "                correct_train = 0\n",
    "                total_train = 0\n",
    "                for data, target in train_loader:\n",
    "                        optimizer.zero_grad()\n",
    "                        op = model(data)\n",
    "                        loss = criterion(op, target)\n",
    "                        loss.backward()\n",
    "                        optimizer.step()\n",
    "                        train_loss += loss.item()\n",
    "                        predicted = torch.argmax(op.data, dim = 1)\n",
    "                        total_train += target.size(0)\n",
    "                        correct_train += (predicted == target).sum().item()\n",
    "\n",
    "                avg_train_loss = train_loss / len(train_loader)\n",
    "                train_acc = 100 * correct_train / total_train\n",
    "\n",
    "                model.eval()\n",
    "                test_loss = 0\n",
    "                correct_test = 0\n",
    "                total_test = 0\n",
    "\n",
    "                with torch.no_grad():\n",
    "                        for data, target in test_loader:\n",
    "                                op = model(data)\n",
    "                                loss = criterion(op, target)\n",
    "                                test_loss += loss.item()\n",
    "                                predicted = torch.argmax(op.data, dim = 1)\n",
    "                                total_test += target.size(0)\n",
    "                                correct_test += (predicted == target).sum().item()\n",
    "                \n",
    "                avg_test_loss = test_loss / len(test_loader)\n",
    "                test_acc = 100 * correct_test / total_test\n",
    "\n",
    "                print(f'Epoch {epoch + 1}, Train Loss: {avg_train_loss: .4f}, Train Accuracy: {train_acc:.8f}%,'\n",
    "                      f'Test Loss: {avg_test_loss: .4f}, Test Accuracy: {test_acc: .8f}%')\n",
    "                \n",
    "\n",
    "train_model(10)"
   ]
  }
 ],
 "metadata": {
  "kernelspec": {
   "display_name": "Python 3",
   "language": "python",
   "name": "python3"
  },
  "language_info": {
   "codemirror_mode": {
    "name": "ipython",
    "version": 3
   },
   "file_extension": ".py",
   "mimetype": "text/x-python",
   "name": "python",
   "nbconvert_exporter": "python",
   "pygments_lexer": "ipython3",
   "version": "3.12.0"
  },
  "orig_nbformat": 4
 },
 "nbformat": 4,
 "nbformat_minor": 2
}
