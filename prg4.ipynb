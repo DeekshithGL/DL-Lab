{
 "cells": [
  {
   "cell_type": "code",
   "execution_count": 2,
   "metadata": {},
   "outputs": [],
   "source": [
    "import torch\n",
    "import torch.nn as nn\n",
    "import torch.nn.functional as F\n",
    "from torchvision import datasets, transforms\n",
    "from torch.utils.data import DataLoader, Subset"
   ]
  },
  {
   "cell_type": "code",
   "execution_count": 3,
   "metadata": {},
   "outputs": [],
   "source": [
    "transform = transforms.Compose([\n",
    "        transforms.ToTensor(),\n",
    "        transforms.Normalize((0.1307, ), (0.3081, ))\n",
    "])\n",
    "\n",
    "train_dataset = datasets.MNIST(root = \"./data\", train = True, download = True, transform = transform)\n",
    "test_dataset = datasets.MNIST(root = \"./data\", train = False, download = True, transform = transform)"
   ]
  },
  {
   "cell_type": "code",
   "execution_count": 4,
   "metadata": {},
   "outputs": [],
   "source": [
    "train_subset = Subset(train_dataset, range(200))\n",
    "test_subset = Subset(test_dataset, range(50))\n",
    "\n",
    "train_loader = DataLoader(train_subset, batch_size = 10, shuffle = True)\n",
    "test_loader = DataLoader(test_subset, batch_size = 10, shuffle = False)"
   ]
  },
  {
   "cell_type": "code",
   "execution_count": 12,
   "metadata": {},
   "outputs": [],
   "source": [
    "class SimpleCNN(nn.Module):\n",
    "        def __init__(self):\n",
    "                super(SimpleCNN, self).__init__()\n",
    "                self.conv1 = nn.Conv2d(1, 10, kernel_size = 5)\n",
    "                self.conv2 = nn.Conv2d(10, 20, kernel_size = 5)\n",
    "                self.fc1 = nn.Linear(320, 50)\n",
    "                self.fc2 = nn.Linear(50, 10)\n",
    "\n",
    "        def forward(self, x):\n",
    "                x = F.relu(F.max_pool2d(self.conv1(x), 2))\n",
    "                x = F.relu(F.max_pool2d(self.conv2(x), 2))\n",
    "                x = x.view(-1, 320)\n",
    "                x = F.relu(self.fc1(x))\n",
    "                x = self.fc2(x)\n",
    "                return F.log_softmax(x, dim = 1)"
   ]
  },
  {
   "cell_type": "code",
   "execution_count": 13,
   "metadata": {},
   "outputs": [],
   "source": [
    "def sgd_update(parameters, lr):\n",
    "        with torch.no_grad():\n",
    "                for param in parameters:\n",
    "                        if param.grad is not None:\n",
    "                                param.data -= lr * param.grad.data\n",
    "                                param.grad.zero_()"
   ]
  },
  {
   "cell_type": "code",
   "execution_count": 14,
   "metadata": {},
   "outputs": [],
   "source": [
    "class CustomAgagrad():\n",
    "        def __init__(self, parameters, lr = 0.01, epsilon = 1e-10):\n",
    "                self.parameters = list(parameters)\n",
    "                self.lr = lr\n",
    "                self.epsilon = epsilon\n",
    "                self.sum_squared_gradients = [torch.zeros_like(p) for p in self.parameters]\n",
    "\n",
    "        def step(self):\n",
    "                with torch.no_grad():\n",
    "                        for param, sum_sq_grad in zip(self.parameters, self.sum_squared_gradients):\n",
    "                                if param.grad is not None:\n",
    "                                        sum_sq_grad += param.grad.data ** 2\n",
    "                                        adjusted_lr = self.lr / (self.epsilon + torch.sqrt(sum_sq_grad))\n",
    "                                        param.data -= adjusted_lr * param.grad.data\n",
    "                                        param.grad.zero_()"
   ]
  },
  {
   "cell_type": "code",
   "execution_count": 18,
   "metadata": {},
   "outputs": [],
   "source": [
    "model = SimpleCNN()\n",
    "criterion = nn.CrossEntropyLoss()"
   ]
  },
  {
   "cell_type": "code",
   "execution_count": 19,
   "metadata": {},
   "outputs": [
    {
     "name": "stdout",
     "output_type": "stream",
     "text": [
      "Epoch 1, Train Loss:  2.0393, Train Accuracy: 31.50000000%, Test Loss:  1.3270, Test Accuracy:  66.00000000%\n",
      "Epoch 2, Train Loss:  0.8169, Train Accuracy: 78.50000000%, Test Loss:  0.8346, Test Accuracy:  78.00000000%\n",
      "Epoch 3, Train Loss:  0.4232, Train Accuracy: 89.00000000%, Test Loss:  0.5830, Test Accuracy:  80.00000000%\n",
      "Epoch 4, Train Loss:  0.2849, Train Accuracy: 92.00000000%, Test Loss:  0.5775, Test Accuracy:  80.00000000%\n",
      "Epoch 5, Train Loss:  0.1446, Train Accuracy: 96.00000000%, Test Loss:  0.3197, Test Accuracy:  90.00000000%\n"
     ]
    }
   ],
   "source": [
    "def train_model(num_epochs, optimizer = 'adagrad'):\n",
    "        if optimizer == 'sgd':\n",
    "                optimizer = None\n",
    "        else:\n",
    "                optimizer = CustomAgagrad(model.parameters(), lr = 0.01)\n",
    "        for epoch in range(num_epochs):\n",
    "                model.train()\n",
    "                train_loss = 0\n",
    "                correct_train = 0\n",
    "                total_train = 0\n",
    "                for data, target in train_loader:\n",
    "                        op = model(data)\n",
    "                        loss = criterion(op, target)\n",
    "                        loss.backward()\n",
    "                        if optimizer == 'sgd':\n",
    "                                sgd_update(model.parameters(), lr = 0.01)\n",
    "                        else:\n",
    "                                optimizer.step()\n",
    "                        train_loss += loss.item()\n",
    "                        predicted = torch.argmax(op.data, dim = 1)\n",
    "                        total_train += target.size(0)\n",
    "                        correct_train += (predicted == target).sum().item()\n",
    "\n",
    "                avg_train_loss = train_loss / len(train_loader)\n",
    "                train_acc = 100 * correct_train / total_train\n",
    "\n",
    "                model.eval()\n",
    "                test_loss = 0\n",
    "                correct_test = 0\n",
    "                total_test = 0\n",
    "\n",
    "                with torch.no_grad():\n",
    "                        for data, target in test_loader:\n",
    "                                op = model(data)\n",
    "                                loss = criterion(op, target)\n",
    "                                test_loss += loss.item()\n",
    "                                predicted = torch.argmax(op.data, dim = 1)\n",
    "                                total_test += target.size(0)\n",
    "                                correct_test += (predicted == target).sum().item()\n",
    "                \n",
    "                avg_test_loss = test_loss / len(test_loader)\n",
    "                test_acc = 100 * correct_test / total_test\n",
    "\n",
    "                print(f'Epoch {epoch + 1}, Train Loss: {avg_train_loss: .4f}, Train Accuracy: {train_acc:.8f}%,'\n",
    "                      f' Test Loss: {avg_test_loss: .4f}, Test Accuracy: {test_acc: .8f}%')\n",
    "                \n",
    "\n",
    "train_model(5, optimizer = 'adagrad')\n"
   ]
  }
 ],
 "metadata": {
  "kernelspec": {
   "display_name": "Python 3",
   "language": "python",
   "name": "python3"
  },
  "language_info": {
   "codemirror_mode": {
    "name": "ipython",
    "version": 3
   },
   "file_extension": ".py",
   "mimetype": "text/x-python",
   "name": "python",
   "nbconvert_exporter": "python",
   "pygments_lexer": "ipython3",
   "version": "3.12.0"
  },
  "orig_nbformat": 4
 },
 "nbformat": 4,
 "nbformat_minor": 2
}
