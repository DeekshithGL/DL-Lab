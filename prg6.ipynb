{
 "cells": [
  {
   "cell_type": "code",
   "execution_count": 1,
   "metadata": {},
   "outputs": [],
   "source": [
    "import torch\n",
    "from torch import nn\n",
    "from torch.utils.data import DataLoader, TensorDataset"
   ]
  },
  {
   "cell_type": "code",
   "execution_count": 2,
   "metadata": {},
   "outputs": [],
   "source": [
    "data = torch.randint(0, 1000, (100, 10))\n",
    "labels = torch.randint(0, 2, (100, ))\n",
    "\n",
    "dataset = TensorDataset(data, labels)\n",
    "loader = DataLoader(dataset, batch_size = 10, shuffle = True)"
   ]
  },
  {
   "cell_type": "code",
   "execution_count": 3,
   "metadata": {},
   "outputs": [],
   "source": [
    "class LSTMClassifier(nn.Module):\n",
    "        def __init__(self, vocabsize, embeddingdim, hiddendim, outputdim):\n",
    "                super(LSTMClassifier, self).__init__()\n",
    "                self.embedding = nn.Embedding(vocabsize, embeddingdim)\n",
    "                self.lstm = nn.LSTM(embeddingdim, hiddendim, batch_first = True)\n",
    "                self.fc = nn.Linear(hiddendim, outputdim)\n",
    "\n",
    "        def forward(self, x):\n",
    "                x = self.embedding(x)\n",
    "                _, (hidden, _) = self.lstm(x)\n",
    "                return self.fc(hidden.squeeze(0))"
   ]
  },
  {
   "cell_type": "code",
   "execution_count": 6,
   "metadata": {},
   "outputs": [],
   "source": [
    "model = LSTMClassifier(1000, 50, 100, 2)\n",
    "criterion = nn.CrossEntropyLoss()\n",
    "optimizer = torch.optim.Adam(model.parameters())"
   ]
  },
  {
   "cell_type": "code",
   "execution_count": 7,
   "metadata": {},
   "outputs": [
    {
     "name": "stdout",
     "output_type": "stream",
     "text": [
      "Epoch 1, Loss: 0.7024577856063843\n",
      "Epoch 2, Loss: 0.652680516242981\n",
      "Epoch 3, Loss: 0.5916832685470581\n",
      "Epoch 4, Loss: 0.5705853700637817\n",
      "Epoch 5, Loss: 0.46821504831314087\n",
      "Epoch 6, Loss: 0.26789137721061707\n",
      "Epoch 7, Loss: 0.2536409795284271\n",
      "Epoch 8, Loss: 0.14960405230522156\n",
      "Epoch 9, Loss: 0.10270003974437714\n",
      "Epoch 10, Loss: 0.007802142761647701\n",
      "Epoch 11, Loss: 0.019308974966406822\n",
      "Epoch 12, Loss: 0.03175234794616699\n",
      "Epoch 13, Loss: 0.0046595437452197075\n",
      "Epoch 14, Loss: 0.0022494345903396606\n",
      "Epoch 15, Loss: 0.0016987782437354326\n",
      "Epoch 16, Loss: 0.0005270214169286191\n",
      "Epoch 17, Loss: 0.0011040993267670274\n",
      "Epoch 18, Loss: 0.00035900057991966605\n",
      "Epoch 19, Loss: 0.0006336503429338336\n",
      "Epoch 20, Loss: 0.0005969153135083616\n",
      "Epoch 21, Loss: 0.00045144185423851013\n",
      "Epoch 22, Loss: 0.0002739492047112435\n",
      "Epoch 23, Loss: 0.00021863314032088965\n",
      "Epoch 24, Loss: 0.0002752412110567093\n",
      "Epoch 25, Loss: 0.0002597107377368957\n",
      "Epoch 26, Loss: 0.0001440221385564655\n",
      "Epoch 27, Loss: 0.0005236940924078226\n",
      "Epoch 28, Loss: 0.0001678282569628209\n",
      "Epoch 29, Loss: 0.0003871052176691592\n",
      "Epoch 30, Loss: 9.83046047622338e-05\n",
      "Epoch 31, Loss: 0.0001203693900606595\n",
      "Epoch 32, Loss: 0.0002305522793903947\n",
      "Epoch 33, Loss: 0.00018680852372199297\n",
      "Epoch 34, Loss: 0.00021987799846101552\n",
      "Epoch 35, Loss: 0.00018350551545154303\n",
      "Epoch 36, Loss: 0.0003799645055551082\n",
      "Epoch 37, Loss: 0.0002689281536731869\n",
      "Epoch 38, Loss: 9.811275958782062e-05\n",
      "Epoch 39, Loss: 6.846978067187592e-05\n",
      "Epoch 40, Loss: 7.165367424022406e-05\n"
     ]
    }
   ],
   "source": [
    "for epoch in range(40):\n",
    "        for ip, target in loader:\n",
    "                optimizer.zero_grad()\n",
    "                op = model(ip)\n",
    "                loss = criterion(op, target)\n",
    "                loss.backward()\n",
    "                optimizer.step()\n",
    "\n",
    "        print(f\"Epoch {epoch + 1}, Loss: {loss.item()}\")"
   ]
  }
 ],
 "metadata": {
  "kernelspec": {
   "display_name": "Python 3",
   "language": "python",
   "name": "python3"
  },
  "language_info": {
   "codemirror_mode": {
    "name": "ipython",
    "version": 3
   },
   "file_extension": ".py",
   "mimetype": "text/x-python",
   "name": "python",
   "nbconvert_exporter": "python",
   "pygments_lexer": "ipython3",
   "version": "3.12.0"
  },
  "orig_nbformat": 4
 },
 "nbformat": 4,
 "nbformat_minor": 2
}
